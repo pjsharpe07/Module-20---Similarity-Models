{
 "cells": [
  {
   "cell_type": "code",
   "execution_count": 1,
   "metadata": {},
   "outputs": [],
   "source": [
    "import numpy as np\n",
    "import pandas as pd\n",
    "import matplotlib.pyplot as plt\n",
    "%matplotlib inline\n",
    "import seaborn as sns\n",
    "import scipy"
   ]
  },
  {
   "cell_type": "code",
   "execution_count": 2,
   "metadata": {},
   "outputs": [],
   "source": [
    "#display options\n",
    "pd.options.display.float_format = '{:.3f}'.format"
   ]
  },
  {
   "cell_type": "code",
   "execution_count": 3,
   "metadata": {
    "scrolled": true
   },
   "outputs": [
    {
     "data": {
      "text/html": [
       "<div>\n",
       "<style scoped>\n",
       "    .dataframe tbody tr th:only-of-type {\n",
       "        vertical-align: middle;\n",
       "    }\n",
       "\n",
       "    .dataframe tbody tr th {\n",
       "        vertical-align: top;\n",
       "    }\n",
       "\n",
       "    .dataframe thead th {\n",
       "        text-align: right;\n",
       "    }\n",
       "</style>\n",
       "<table border=\"1\" class=\"dataframe\">\n",
       "  <thead>\n",
       "    <tr style=\"text-align: right;\">\n",
       "      <th></th>\n",
       "      <th>bookID</th>\n",
       "      <th>title</th>\n",
       "      <th>authors</th>\n",
       "      <th>average_rating</th>\n",
       "      <th>isbn</th>\n",
       "      <th>isbn13</th>\n",
       "      <th>language_code</th>\n",
       "      <th># num_pages</th>\n",
       "      <th>ratings_count</th>\n",
       "      <th>text_reviews_count</th>\n",
       "    </tr>\n",
       "  </thead>\n",
       "  <tbody>\n",
       "    <tr>\n",
       "      <th>0</th>\n",
       "      <td>34523</td>\n",
       "      <td>The Flying Sorcerers: More Comic Tales of Fantasy</td>\n",
       "      <td>Peter Haining-Roald Dahl-Terry Pratchett-Angel...</td>\n",
       "      <td>3.980</td>\n",
       "      <td>1857237250</td>\n",
       "      <td>9781860000000.000</td>\n",
       "      <td>eng</td>\n",
       "      <td>383</td>\n",
       "      <td>2197</td>\n",
       "      <td>17</td>\n",
       "    </tr>\n",
       "    <tr>\n",
       "      <th>1</th>\n",
       "      <td>16914</td>\n",
       "      <td>The Tolkien Fan's Medieval Reader</td>\n",
       "      <td>David E. Smith (Turgon of TheOneRing.net</td>\n",
       "      <td>3.600</td>\n",
       "      <td>1593600119</td>\n",
       "      <td>9781590000000.000</td>\n",
       "      <td>eng</td>\n",
       "      <td>400</td>\n",
       "      <td>25</td>\n",
       "      <td>4</td>\n",
       "    </tr>\n",
       "    <tr>\n",
       "      <th>2</th>\n",
       "      <td>22128</td>\n",
       "      <td>Patriots (The Coming Collapse)</td>\n",
       "      <td>James Wesley</td>\n",
       "      <td>3.630</td>\n",
       "      <td>156384155X</td>\n",
       "      <td>9781560000000.000</td>\n",
       "      <td>eng</td>\n",
       "      <td>342</td>\n",
       "      <td>38</td>\n",
       "      <td>4</td>\n",
       "    </tr>\n",
       "    <tr>\n",
       "      <th>3</th>\n",
       "      <td>34889</td>\n",
       "      <td>Brown's Star Atlas: Showing All The Bright Sta...</td>\n",
       "      <td>Brown</td>\n",
       "      <td>0.000</td>\n",
       "      <td>851742718</td>\n",
       "      <td>9780850000000.000</td>\n",
       "      <td>eng</td>\n",
       "      <td>49</td>\n",
       "      <td>0</td>\n",
       "      <td>0</td>\n",
       "    </tr>\n",
       "    <tr>\n",
       "      <th>4</th>\n",
       "      <td>1</td>\n",
       "      <td>Harry Potter and the Half-Blood Prince (Harry ...</td>\n",
       "      <td>J.K. Rowling-Mary GrandPré</td>\n",
       "      <td>4.560</td>\n",
       "      <td>439785960</td>\n",
       "      <td>9780440000000.000</td>\n",
       "      <td>eng</td>\n",
       "      <td>652</td>\n",
       "      <td>1944099</td>\n",
       "      <td>26249</td>\n",
       "    </tr>\n",
       "  </tbody>\n",
       "</table>\n",
       "</div>"
      ],
      "text/plain": [
       "   bookID                                              title  \\\n",
       "0   34523  The Flying Sorcerers: More Comic Tales of Fantasy   \n",
       "1   16914                  The Tolkien Fan's Medieval Reader   \n",
       "2   22128                     Patriots (The Coming Collapse)   \n",
       "3   34889  Brown's Star Atlas: Showing All The Bright Sta...   \n",
       "4       1  Harry Potter and the Half-Blood Prince (Harry ...   \n",
       "\n",
       "                                             authors  average_rating  \\\n",
       "0  Peter Haining-Roald Dahl-Terry Pratchett-Angel...           3.980   \n",
       "1           David E. Smith (Turgon of TheOneRing.net           3.600   \n",
       "2                                       James Wesley           3.630   \n",
       "3                                              Brown           0.000   \n",
       "4                         J.K. Rowling-Mary GrandPré           4.560   \n",
       "\n",
       "         isbn            isbn13 language_code  # num_pages  ratings_count  \\\n",
       "0  1857237250 9781860000000.000           eng          383           2197   \n",
       "1  1593600119 9781590000000.000           eng          400             25   \n",
       "2  156384155X 9781560000000.000           eng          342             38   \n",
       "3   851742718 9780850000000.000           eng           49              0   \n",
       "4   439785960 9780440000000.000           eng          652        1944099   \n",
       "\n",
       "   text_reviews_count  \n",
       "0                  17  \n",
       "1                   4  \n",
       "2                   4  \n",
       "3                   0  \n",
       "4               26249  "
      ]
     },
     "execution_count": 3,
     "metadata": {},
     "output_type": "execute_result"
    }
   ],
   "source": [
    "df_books = pd.read_csv('books.csv')\n",
    "df_books.head()"
   ]
  },
  {
   "cell_type": "code",
   "execution_count": 4,
   "metadata": {},
   "outputs": [
    {
     "data": {
      "text/html": [
       "<div>\n",
       "<style scoped>\n",
       "    .dataframe tbody tr th:only-of-type {\n",
       "        vertical-align: middle;\n",
       "    }\n",
       "\n",
       "    .dataframe tbody tr th {\n",
       "        vertical-align: top;\n",
       "    }\n",
       "\n",
       "    .dataframe thead th {\n",
       "        text-align: right;\n",
       "    }\n",
       "</style>\n",
       "<table border=\"1\" class=\"dataframe\">\n",
       "  <thead>\n",
       "    <tr style=\"text-align: right;\">\n",
       "      <th></th>\n",
       "      <th>bookID</th>\n",
       "      <th>average_rating</th>\n",
       "      <th>isbn13</th>\n",
       "      <th># num_pages</th>\n",
       "      <th>ratings_count</th>\n",
       "      <th>text_reviews_count</th>\n",
       "    </tr>\n",
       "  </thead>\n",
       "  <tbody>\n",
       "    <tr>\n",
       "      <th>count</th>\n",
       "      <td>13719.000</td>\n",
       "      <td>13719.000</td>\n",
       "      <td>13719.000</td>\n",
       "      <td>13719.000</td>\n",
       "      <td>13719.000</td>\n",
       "      <td>13719.000</td>\n",
       "    </tr>\n",
       "    <tr>\n",
       "      <th>mean</th>\n",
       "      <td>22160.579</td>\n",
       "      <td>3.930</td>\n",
       "      <td>9764023551061.795</td>\n",
       "      <td>342.381</td>\n",
       "      <td>17759.091</td>\n",
       "      <td>533.440</td>\n",
       "    </tr>\n",
       "    <tr>\n",
       "      <th>std</th>\n",
       "      <td>13699.603</td>\n",
       "      <td>0.359</td>\n",
       "      <td>398695406633.363</td>\n",
       "      <td>252.619</td>\n",
       "      <td>112937.122</td>\n",
       "      <td>2528.566</td>\n",
       "    </tr>\n",
       "    <tr>\n",
       "      <th>min</th>\n",
       "      <td>1.000</td>\n",
       "      <td>0.000</td>\n",
       "      <td>8987059752.000</td>\n",
       "      <td>0.000</td>\n",
       "      <td>0.000</td>\n",
       "      <td>0.000</td>\n",
       "    </tr>\n",
       "    <tr>\n",
       "      <th>25%</th>\n",
       "      <td>10621.000</td>\n",
       "      <td>3.770</td>\n",
       "      <td>9780350000000.000</td>\n",
       "      <td>196.000</td>\n",
       "      <td>82.500</td>\n",
       "      <td>7.000</td>\n",
       "    </tr>\n",
       "    <tr>\n",
       "      <th>50%</th>\n",
       "      <td>21322.000</td>\n",
       "      <td>3.960</td>\n",
       "      <td>9780610000000.000</td>\n",
       "      <td>301.000</td>\n",
       "      <td>630.000</td>\n",
       "      <td>40.000</td>\n",
       "    </tr>\n",
       "    <tr>\n",
       "      <th>75%</th>\n",
       "      <td>33322.000</td>\n",
       "      <td>4.130</td>\n",
       "      <td>9780940000000.000</td>\n",
       "      <td>421.000</td>\n",
       "      <td>4737.000</td>\n",
       "      <td>222.000</td>\n",
       "    </tr>\n",
       "    <tr>\n",
       "      <th>max</th>\n",
       "      <td>47709.000</td>\n",
       "      <td>5.000</td>\n",
       "      <td>9790010000000.000</td>\n",
       "      <td>6576.000</td>\n",
       "      <td>5629932.000</td>\n",
       "      <td>93619.000</td>\n",
       "    </tr>\n",
       "  </tbody>\n",
       "</table>\n",
       "</div>"
      ],
      "text/plain": [
       "         bookID  average_rating            isbn13  # num_pages  ratings_count  \\\n",
       "count 13719.000       13719.000         13719.000    13719.000      13719.000   \n",
       "mean  22160.579           3.930 9764023551061.795      342.381      17759.091   \n",
       "std   13699.603           0.359  398695406633.363      252.619     112937.122   \n",
       "min       1.000           0.000    8987059752.000        0.000          0.000   \n",
       "25%   10621.000           3.770 9780350000000.000      196.000         82.500   \n",
       "50%   21322.000           3.960 9780610000000.000      301.000        630.000   \n",
       "75%   33322.000           4.130 9780940000000.000      421.000       4737.000   \n",
       "max   47709.000           5.000 9790010000000.000     6576.000    5629932.000   \n",
       "\n",
       "       text_reviews_count  \n",
       "count           13719.000  \n",
       "mean              533.440  \n",
       "std              2528.566  \n",
       "min                 0.000  \n",
       "25%                 7.000  \n",
       "50%                40.000  \n",
       "75%               222.000  \n",
       "max             93619.000  "
      ]
     },
     "execution_count": 4,
     "metadata": {},
     "output_type": "execute_result"
    }
   ],
   "source": [
    "df_books.describe()"
   ]
  },
  {
   "cell_type": "code",
   "execution_count": 6,
   "metadata": {},
   "outputs": [
    {
     "data": {
      "text/plain": [
       "bookID               0.838\n",
       "title                0.838\n",
       "authors              0.838\n",
       "average_rating       0.838\n",
       "isbn                 0.838\n",
       "isbn13               0.838\n",
       "language_code        0.838\n",
       "# num_pages          0.838\n",
       "ratings_count        0.838\n",
       "text_reviews_count   0.838\n",
       "dtype: float64"
      ]
     },
     "execution_count": 6,
     "metadata": {},
     "output_type": "execute_result"
    }
   ],
   "source": [
    "df_books[df_books['ratings_count'] == 0].count() / len(df_books) * 100"
   ]
  },
  {
   "cell_type": "markdown",
   "metadata": {},
   "source": [
    "Some of our dataset has 0 ratings. Let's drop those!"
   ]
  },
  {
   "cell_type": "code",
   "execution_count": 8,
   "metadata": {},
   "outputs": [
    {
     "data": {
      "text/html": [
       "<div>\n",
       "<style scoped>\n",
       "    .dataframe tbody tr th:only-of-type {\n",
       "        vertical-align: middle;\n",
       "    }\n",
       "\n",
       "    .dataframe tbody tr th {\n",
       "        vertical-align: top;\n",
       "    }\n",
       "\n",
       "    .dataframe thead th {\n",
       "        text-align: right;\n",
       "    }\n",
       "</style>\n",
       "<table border=\"1\" class=\"dataframe\">\n",
       "  <thead>\n",
       "    <tr style=\"text-align: right;\">\n",
       "      <th></th>\n",
       "      <th>bookID</th>\n",
       "      <th>title</th>\n",
       "      <th>authors</th>\n",
       "      <th>average_rating</th>\n",
       "      <th>isbn</th>\n",
       "      <th>isbn13</th>\n",
       "      <th>language_code</th>\n",
       "      <th># num_pages</th>\n",
       "      <th>ratings_count</th>\n",
       "      <th>text_reviews_count</th>\n",
       "    </tr>\n",
       "  </thead>\n",
       "  <tbody>\n",
       "    <tr>\n",
       "      <th>0</th>\n",
       "      <td>34523</td>\n",
       "      <td>The Flying Sorcerers: More Comic Tales of Fantasy</td>\n",
       "      <td>Peter Haining-Roald Dahl-Terry Pratchett-Angel...</td>\n",
       "      <td>3.980</td>\n",
       "      <td>1857237250</td>\n",
       "      <td>9781860000000.000</td>\n",
       "      <td>eng</td>\n",
       "      <td>383</td>\n",
       "      <td>2197</td>\n",
       "      <td>17</td>\n",
       "    </tr>\n",
       "    <tr>\n",
       "      <th>1</th>\n",
       "      <td>16914</td>\n",
       "      <td>The Tolkien Fan's Medieval Reader</td>\n",
       "      <td>David E. Smith (Turgon of TheOneRing.net</td>\n",
       "      <td>3.600</td>\n",
       "      <td>1593600119</td>\n",
       "      <td>9781590000000.000</td>\n",
       "      <td>eng</td>\n",
       "      <td>400</td>\n",
       "      <td>25</td>\n",
       "      <td>4</td>\n",
       "    </tr>\n",
       "    <tr>\n",
       "      <th>2</th>\n",
       "      <td>22128</td>\n",
       "      <td>Patriots (The Coming Collapse)</td>\n",
       "      <td>James Wesley</td>\n",
       "      <td>3.630</td>\n",
       "      <td>156384155X</td>\n",
       "      <td>9781560000000.000</td>\n",
       "      <td>eng</td>\n",
       "      <td>342</td>\n",
       "      <td>38</td>\n",
       "      <td>4</td>\n",
       "    </tr>\n",
       "    <tr>\n",
       "      <th>4</th>\n",
       "      <td>1</td>\n",
       "      <td>Harry Potter and the Half-Blood Prince (Harry ...</td>\n",
       "      <td>J.K. Rowling-Mary GrandPré</td>\n",
       "      <td>4.560</td>\n",
       "      <td>439785960</td>\n",
       "      <td>9780440000000.000</td>\n",
       "      <td>eng</td>\n",
       "      <td>652</td>\n",
       "      <td>1944099</td>\n",
       "      <td>26249</td>\n",
       "    </tr>\n",
       "    <tr>\n",
       "      <th>5</th>\n",
       "      <td>2</td>\n",
       "      <td>Harry Potter and the Order of the Phoenix (Har...</td>\n",
       "      <td>J.K. Rowling-Mary GrandPré</td>\n",
       "      <td>4.490</td>\n",
       "      <td>439358078</td>\n",
       "      <td>9780440000000.000</td>\n",
       "      <td>eng</td>\n",
       "      <td>870</td>\n",
       "      <td>1996446</td>\n",
       "      <td>27613</td>\n",
       "    </tr>\n",
       "  </tbody>\n",
       "</table>\n",
       "</div>"
      ],
      "text/plain": [
       "   bookID                                              title  \\\n",
       "0   34523  The Flying Sorcerers: More Comic Tales of Fantasy   \n",
       "1   16914                  The Tolkien Fan's Medieval Reader   \n",
       "2   22128                     Patriots (The Coming Collapse)   \n",
       "4       1  Harry Potter and the Half-Blood Prince (Harry ...   \n",
       "5       2  Harry Potter and the Order of the Phoenix (Har...   \n",
       "\n",
       "                                             authors  average_rating  \\\n",
       "0  Peter Haining-Roald Dahl-Terry Pratchett-Angel...           3.980   \n",
       "1           David E. Smith (Turgon of TheOneRing.net           3.600   \n",
       "2                                       James Wesley           3.630   \n",
       "4                         J.K. Rowling-Mary GrandPré           4.560   \n",
       "5                         J.K. Rowling-Mary GrandPré           4.490   \n",
       "\n",
       "         isbn            isbn13 language_code  # num_pages  ratings_count  \\\n",
       "0  1857237250 9781860000000.000           eng          383           2197   \n",
       "1  1593600119 9781590000000.000           eng          400             25   \n",
       "2  156384155X 9781560000000.000           eng          342             38   \n",
       "4   439785960 9780440000000.000           eng          652        1944099   \n",
       "5   439358078 9780440000000.000           eng          870        1996446   \n",
       "\n",
       "   text_reviews_count  \n",
       "0                  17  \n",
       "1                   4  \n",
       "2                   4  \n",
       "4               26249  \n",
       "5               27613  "
      ]
     },
     "execution_count": 8,
     "metadata": {},
     "output_type": "execute_result"
    }
   ],
   "source": [
    "df = df_books.loc[df_books.ratings_count > 0]\n",
    "df.head()"
   ]
  },
  {
   "cell_type": "code",
   "execution_count": 10,
   "metadata": {},
   "outputs": [],
   "source": [
    "df = df.rename(columns={'# num_pages' : 'num_pages'})"
   ]
  },
  {
   "cell_type": "code",
   "execution_count": 12,
   "metadata": {},
   "outputs": [
    {
     "data": {
      "image/png": "[encoded data removed]",
      "text/plain": [
       "<Figure size 432x288 with 1 Axes>"
      ]
     },
     "metadata": {
      "needs_background": "light"
     },
     "output_type": "display_data"
    }
   ],
   "source": [
    "sns.distplot(df.average_rating)\n",
    "plt.show()"
   ]
  },
  {
   "cell_type": "code",
   "execution_count": 14,
   "metadata": {},
   "outputs": [
    {
     "name": "stdout",
     "output_type": "stream",
     "text": [
      "3.940711555424852 0.29767956429376663\n"
     ]
    }
   ],
   "source": [
    "print(df.average_rating.mean(), df.average_rating.std())"
   ]
  },
  {
   "cell_type": "code",
   "execution_count": 15,
   "metadata": {},
   "outputs": [
    {
     "data": {
      "text/html": [
       "<div>\n",
       "<style scoped>\n",
       "    .dataframe tbody tr th:only-of-type {\n",
       "        vertical-align: middle;\n",
       "    }\n",
       "\n",
       "    .dataframe tbody tr th {\n",
       "        vertical-align: top;\n",
       "    }\n",
       "\n",
       "    .dataframe thead th {\n",
       "        text-align: right;\n",
       "    }\n",
       "</style>\n",
       "<table border=\"1\" class=\"dataframe\">\n",
       "  <thead>\n",
       "    <tr style=\"text-align: right;\">\n",
       "      <th></th>\n",
       "      <th>bookID</th>\n",
       "      <th>average_rating</th>\n",
       "      <th>isbn13</th>\n",
       "      <th>num_pages</th>\n",
       "      <th>ratings_count</th>\n",
       "      <th>text_reviews_count</th>\n",
       "    </tr>\n",
       "  </thead>\n",
       "  <tbody>\n",
       "    <tr>\n",
       "      <th>count</th>\n",
       "      <td>13604.000</td>\n",
       "      <td>13604.000</td>\n",
       "      <td>13604.000</td>\n",
       "      <td>13604.000</td>\n",
       "      <td>13604.000</td>\n",
       "      <td>13604.000</td>\n",
       "    </tr>\n",
       "    <tr>\n",
       "      <th>mean</th>\n",
       "      <td>22139.232</td>\n",
       "      <td>3.941</td>\n",
       "      <td>9763870103426.695</td>\n",
       "      <td>342.980</td>\n",
       "      <td>17909.216</td>\n",
       "      <td>537.949</td>\n",
       "    </tr>\n",
       "    <tr>\n",
       "      <th>std</th>\n",
       "      <td>13694.647</td>\n",
       "      <td>0.298</td>\n",
       "      <td>400373556612.290</td>\n",
       "      <td>252.630</td>\n",
       "      <td>113401.649</td>\n",
       "      <td>2538.754</td>\n",
       "    </tr>\n",
       "    <tr>\n",
       "      <th>min</th>\n",
       "      <td>1.000</td>\n",
       "      <td>1.000</td>\n",
       "      <td>8987059752.000</td>\n",
       "      <td>0.000</td>\n",
       "      <td>1.000</td>\n",
       "      <td>0.000</td>\n",
       "    </tr>\n",
       "    <tr>\n",
       "      <th>25%</th>\n",
       "      <td>10610.000</td>\n",
       "      <td>3.770</td>\n",
       "      <td>9780350000000.000</td>\n",
       "      <td>197.000</td>\n",
       "      <td>88.000</td>\n",
       "      <td>8.000</td>\n",
       "    </tr>\n",
       "    <tr>\n",
       "      <th>50%</th>\n",
       "      <td>21282.500</td>\n",
       "      <td>3.960</td>\n",
       "      <td>9780600000000.000</td>\n",
       "      <td>302.000</td>\n",
       "      <td>650.000</td>\n",
       "      <td>41.000</td>\n",
       "    </tr>\n",
       "    <tr>\n",
       "      <th>75%</th>\n",
       "      <td>33279.750</td>\n",
       "      <td>4.130</td>\n",
       "      <td>9780940000000.000</td>\n",
       "      <td>421.250</td>\n",
       "      <td>4802.750</td>\n",
       "      <td>225.000</td>\n",
       "    </tr>\n",
       "    <tr>\n",
       "      <th>max</th>\n",
       "      <td>47709.000</td>\n",
       "      <td>5.000</td>\n",
       "      <td>9790010000000.000</td>\n",
       "      <td>6576.000</td>\n",
       "      <td>5629932.000</td>\n",
       "      <td>93619.000</td>\n",
       "    </tr>\n",
       "  </tbody>\n",
       "</table>\n",
       "</div>"
      ],
      "text/plain": [
       "         bookID  average_rating            isbn13  num_pages  ratings_count  \\\n",
       "count 13604.000       13604.000         13604.000  13604.000      13604.000   \n",
       "mean  22139.232           3.941 9763870103426.695    342.980      17909.216   \n",
       "std   13694.647           0.298  400373556612.290    252.630     113401.649   \n",
       "min       1.000           1.000    8987059752.000      0.000          1.000   \n",
       "25%   10610.000           3.770 9780350000000.000    197.000         88.000   \n",
       "50%   21282.500           3.960 9780600000000.000    302.000        650.000   \n",
       "75%   33279.750           4.130 9780940000000.000    421.250       4802.750   \n",
       "max   47709.000           5.000 9790010000000.000   6576.000    5629932.000   \n",
       "\n",
       "       text_reviews_count  \n",
       "count           13604.000  \n",
       "mean              537.949  \n",
       "std              2538.754  \n",
       "min                 0.000  \n",
       "25%                 8.000  \n",
       "50%                41.000  \n",
       "75%               225.000  \n",
       "max             93619.000  "
      ]
     },
     "execution_count": 15,
     "metadata": {},
     "output_type": "execute_result"
    }
   ],
   "source": [
    "df.describe()"
   ]
  },
  {
   "cell_type": "code",
   "execution_count": 16,
   "metadata": {},
   "outputs": [
    {
     "data": {
      "text/plain": [
       "bookID               0.000\n",
       "title                0.000\n",
       "authors              0.000\n",
       "average_rating       0.000\n",
       "isbn                 0.000\n",
       "isbn13               0.000\n",
       "language_code        0.000\n",
       "num_pages            0.000\n",
       "ratings_count        0.000\n",
       "text_reviews_count   0.000\n",
       "dtype: float64"
      ]
     },
     "execution_count": 16,
     "metadata": {},
     "output_type": "execute_result"
    }
   ],
   "source": [
    "df.isnull().sum() / df.isnull().count() * 100"
   ]
  },
  {
   "cell_type": "markdown",
   "metadata": {},
   "source": [
    "No missing values!"
   ]
  },
  {
   "cell_type": "markdown",
   "metadata": {},
   "source": [
    "A good book should have an average_rating of at least 4.4 --- arbitrarily set of course :) This is for practice people!"
   ]
  },
  {
   "cell_type": "code",
   "execution_count": 17,
   "metadata": {},
   "outputs": [],
   "source": [
    "df['is_good'] = df['average_rating'].apply(lambda x: 1 if x >= 4.4 else 0)"
   ]
  },
  {
   "cell_type": "code",
   "execution_count": 22,
   "metadata": {},
   "outputs": [
    {
     "name": "stdout",
     "output_type": "stream",
     "text": [
      "[0]\n",
      "[[1. 0.]]\n"
     ]
    }
   ],
   "source": [
    "from sklearn.neighbors import KNeighborsClassifier\n",
    "neighbors = KNeighborsClassifier(n_neighbors=5)\n",
    "X = df[['average_rating', 'num_pages']]\n",
    "Y = df.is_good\n",
    "neighbors.fit(X,Y)\n",
    "\n",
    "predictions = neighbors.predict(X)\n",
    "print(neighbors.predict([[4.9, 300]]))\n",
    "print(neighbors.predict_proba([[4.4, 300]]))"
   ]
  },
  {
   "cell_type": "code",
   "execution_count": 19,
   "metadata": {},
   "outputs": [
    {
     "data": {
      "image/png": "[encoded data removed]",
      "text/plain": [
       "<Figure size 432x288 with 1 Axes>"
      ]
     },
     "metadata": {
      "needs_background": "light"
     },
     "output_type": "display_data"
    }
   ],
   "source": [
    "sns.scatterplot(x='average_rating', y='num_pages', data=df, hue='is_good')\n",
    "plt.show()"
   ]
  },
  {
   "cell_type": "code",
   "execution_count": 26,
   "metadata": {},
   "outputs": [
    {
     "data": {
      "text/plain": [
       "97.24345780652749"
      ]
     },
     "execution_count": 26,
     "metadata": {},
     "output_type": "execute_result"
    }
   ],
   "source": [
    "(predictions == Y).sum() / len(Y) * 100"
   ]
  },
  {
   "cell_type": "markdown",
   "metadata": {},
   "source": [
    "### Music Dataset"
   ]
  },
  {
   "cell_type": "code",
   "execution_count": 27,
   "metadata": {},
   "outputs": [
    {
     "data": {
      "text/html": [
       "<div>\n",
       "<style scoped>\n",
       "    .dataframe tbody tr th:only-of-type {\n",
       "        vertical-align: middle;\n",
       "    }\n",
       "\n",
       "    .dataframe tbody tr th {\n",
       "        vertical-align: top;\n",
       "    }\n",
       "\n",
       "    .dataframe thead th {\n",
       "        text-align: right;\n",
       "    }\n",
       "</style>\n",
       "<table border=\"1\" class=\"dataframe\">\n",
       "  <thead>\n",
       "    <tr style=\"text-align: right;\">\n",
       "      <th></th>\n",
       "      <th>duration</th>\n",
       "      <th>loudness</th>\n",
       "      <th>jazz</th>\n",
       "    </tr>\n",
       "  </thead>\n",
       "  <tbody>\n",
       "    <tr>\n",
       "      <th>0</th>\n",
       "      <td>184</td>\n",
       "      <td>18</td>\n",
       "      <td>1</td>\n",
       "    </tr>\n",
       "    <tr>\n",
       "      <th>1</th>\n",
       "      <td>134</td>\n",
       "      <td>34</td>\n",
       "      <td>0</td>\n",
       "    </tr>\n",
       "    <tr>\n",
       "      <th>2</th>\n",
       "      <td>243</td>\n",
       "      <td>43</td>\n",
       "      <td>0</td>\n",
       "    </tr>\n",
       "    <tr>\n",
       "      <th>3</th>\n",
       "      <td>186</td>\n",
       "      <td>36</td>\n",
       "      <td>0</td>\n",
       "    </tr>\n",
       "    <tr>\n",
       "      <th>4</th>\n",
       "      <td>122</td>\n",
       "      <td>22</td>\n",
       "      <td>1</td>\n",
       "    </tr>\n",
       "  </tbody>\n",
       "</table>\n",
       "</div>"
      ],
      "text/plain": [
       "   duration  loudness  jazz\n",
       "0       184        18     1\n",
       "1       134        34     0\n",
       "2       243        43     0\n",
       "3       186        36     0\n",
       "4       122        22     1"
      ]
     },
     "execution_count": 27,
     "metadata": {},
     "output_type": "execute_result"
    }
   ],
   "source": [
    "music = pd.DataFrame()\n",
    "\n",
    "# Some data to play with.\n",
    "music['duration'] = [184, 134, 243, 186, 122, 197, 294, 382, 102, 264, \n",
    "                     205, 110, 307, 110, 397, 153, 190, 192, 210, 403,\n",
    "                     164, 198, 204, 253, 234, 190, 182, 401, 376, 102]\n",
    "music['loudness'] = [18, 34, 43, 36, 22, 9, 29, 22, 10, 24, \n",
    "                     20, 10, 17, 51, 7, 13, 19, 12, 21, 22,\n",
    "                     16, 18, 4, 23, 34, 19, 14, 11, 37, 42]\n",
    "\n",
    "# We know whether the songs in our training data are jazz or not.\n",
    "music['jazz'] = [ 1, 0, 0, 0, 1, 1, 0, 1, 1, 0,\n",
    "                  0, 1, 1, 0, 1, 1, 0, 1, 1, 1,\n",
    "                  1, 1, 1, 1, 0, 0, 1, 1, 0, 0]\n",
    "\n",
    "music.head()"
   ]
  },
  {
   "cell_type": "code",
   "execution_count": 28,
   "metadata": {},
   "outputs": [
    {
     "name": "stdout",
     "output_type": "stream",
     "text": [
      "[1]\n",
      "[[0.4 0.6]]\n"
     ]
    }
   ],
   "source": [
    "X = music[['loudness', 'duration']]\n",
    "Y = music.jazz\n",
    "neighbors.fit(X, Y)\n",
    "\n",
    "print(neighbors.predict([[24, 190]]))\n",
    "print(neighbors.predict_proba([[24, 190]]))"
   ]
  }
 ],
 "metadata": {
  "kernelspec": {
   "display_name": "Python 3",
   "language": "python",
   "name": "python3"
  },
  "language_info": {
   "codemirror_mode": {
    "name": "ipython",
    "version": 3
   },
   "file_extension": ".py",
   "mimetype": "text/x-python",
   "name": "python",
   "nbconvert_exporter": "python",
   "pygments_lexer": "ipython3",
   "version": "3.7.3"
  }
 },
 "nbformat": 4,
 "nbformat_minor": 2
}
